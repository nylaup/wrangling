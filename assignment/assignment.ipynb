{
  "cells": [
    {
      "cell_type": "markdown",
      "id": "13ad028b-72b7-43ed-aa78-96fd4e518040",
      "metadata": {
        "id": "13ad028b-72b7-43ed-aa78-96fd4e518040"
      },
      "source": [
        "# Assignment: Data Wrangling\n",
        "### `! git clone https://github.com/ds4e/wrangling`\n",
        "### Do Q1 and Q2, and either Q3 or Q4, for a total of 3 questions."
      ]
    },
    {
      "cell_type": "markdown",
      "id": "da879ea7-8aac-48a3-b6c2-daea56d2e072",
      "metadata": {
        "id": "da879ea7-8aac-48a3-b6c2-daea56d2e072"
      },
      "source": [
        "**Q1.** This question provides some practice cleaning variables which have common problems.\n",
        "1. Numeric variable: For `./data/airbnb_hw.csv`, clean the `Price` variable as well as you can, and explain the choices you make. How many missing values do you end up with? (Hint: What happens to the formatting when a price goes over 999 dollars, say from 675 to 1,112?)\n",
        "2. Categorical variable: For the Minnesota police use of for data, `./data/mn_police_use_of_force.csv`, clean the `subject_injury` variable, handling the NA's; this gives a value `Yes` when a person was injured by police, and `No` when no injury occurred. What proportion of the values are missing? Is this a concern? Cross-tabulate your cleaned `subject_injury` variable with the `force_type` variable. Are there any patterns regarding when the data are missing? \n",
        "3. Dummy variable: For the pretrial data covered in the lecture, clean the `WhetherDefendantWasReleasedPretrial` variable as well as you can, and, in particular, replace missing values with `np.nan`.\n",
        "4. Missing values, not at random: For the pretrial data covered in the lecture, clean the `ImposedSentenceAllChargeInContactEvent` variable as well as you can, and explain the choices you make. (Hint: Look at the `SentenceTypeAllChargesAtConvictionInContactEvent` variable.)"
      ]
    },
    {
      "cell_type": "code",
      "execution_count": 80,
      "id": "a7aa41a9",
      "metadata": {},
      "outputs": [
        {
          "name": "stdout",
          "output_type": "stream",
          "text": [
            "object\n",
            "int64\n",
            "0\n"
          ]
        }
      ],
      "source": [
        "import pandas as pd \n",
        "import numpy as np\n",
        "import re \n",
        "import matplotlib.pyplot as plt\n",
        "\n",
        "#PART 1\n",
        "AirBnBData = pd.read_csv('./data/airbnb_hw.csv') #read in the data \n",
        "\n",
        "print(AirBnBData['Price'].dtypes) #check the datatype of the column, want it to be int\n",
        "\n",
        "def check_comma(value): #create a function that converts to numerics, checking if they have a comma \n",
        "    pattern = r'[0-9]+[,][0-9][0-9][0-9]' #regex pattern to match something formatted like 0,000\n",
        "    if re.match(pattern, value): #checks if the string has a comma \n",
        "        cleaned = re.sub(r',', '', value) #substitutes the comma for a blank space\n",
        "        cleaned = pd.to_numeric(cleaned) #converts to a numeric \n",
        "        return cleaned\n",
        "    else:\n",
        "        value = pd.to_numeric(value) #converts to numeric if there is no comma \n",
        "        return value\n",
        "    \n",
        "#apply the check_comma function to everything in the Price column and create a new column called PriceClean\n",
        "AirBnBData['PriceClean'] = AirBnBData['Price'].apply(check_comma) \n",
        "\n",
        "print(AirBnBData['PriceClean'].dtypes) #check price after typecasting, should be int \n",
        "\n",
        "print(AirBnBData['PriceClean'].isna().sum().sum()) #check how many NA values have been created "
      ]
    },
    {
      "cell_type": "code",
      "execution_count": 4,
      "id": "edc4d6dc",
      "metadata": {},
      "outputs": [
        {
          "name": "stdout",
          "output_type": "stream",
          "text": [
            "object\n",
            "0.7619342359767892\n"
          ]
        },
        {
          "data": {
            "text/html": [
              "<div>\n",
              "<style scoped>\n",
              "    .dataframe tbody tr th:only-of-type {\n",
              "        vertical-align: middle;\n",
              "    }\n",
              "\n",
              "    .dataframe tbody tr th {\n",
              "        vertical-align: top;\n",
              "    }\n",
              "\n",
              "    .dataframe thead th {\n",
              "        text-align: right;\n",
              "    }\n",
              "</style>\n",
              "<table border=\"1\" class=\"dataframe\">\n",
              "  <thead>\n",
              "    <tr style=\"text-align: right;\">\n",
              "      <th>force</th>\n",
              "      <th>Baton</th>\n",
              "      <th>Bodily Force</th>\n",
              "      <th>Chemical Irritant</th>\n",
              "      <th>Firearm</th>\n",
              "      <th>Gun Point Display</th>\n",
              "      <th>Improvised Weapon</th>\n",
              "      <th>Less Lethal</th>\n",
              "      <th>Less Lethal Projectile</th>\n",
              "      <th>Maximal Restraint Technique</th>\n",
              "      <th>Police K9 Bite</th>\n",
              "      <th>Taser</th>\n",
              "    </tr>\n",
              "    <tr>\n",
              "      <th>injury</th>\n",
              "      <th></th>\n",
              "      <th></th>\n",
              "      <th></th>\n",
              "      <th></th>\n",
              "      <th></th>\n",
              "      <th></th>\n",
              "      <th></th>\n",
              "      <th></th>\n",
              "      <th></th>\n",
              "      <th></th>\n",
              "      <th></th>\n",
              "    </tr>\n",
              "  </thead>\n",
              "  <tbody>\n",
              "    <tr>\n",
              "      <th>NA</th>\n",
              "      <td>2</td>\n",
              "      <td>7051</td>\n",
              "      <td>1421</td>\n",
              "      <td>0</td>\n",
              "      <td>27</td>\n",
              "      <td>74</td>\n",
              "      <td>87</td>\n",
              "      <td>0</td>\n",
              "      <td>170</td>\n",
              "      <td>31</td>\n",
              "      <td>985</td>\n",
              "    </tr>\n",
              "    <tr>\n",
              "      <th>No</th>\n",
              "      <td>0</td>\n",
              "      <td>1093</td>\n",
              "      <td>131</td>\n",
              "      <td>2</td>\n",
              "      <td>33</td>\n",
              "      <td>34</td>\n",
              "      <td>0</td>\n",
              "      <td>1</td>\n",
              "      <td>0</td>\n",
              "      <td>2</td>\n",
              "      <td>150</td>\n",
              "    </tr>\n",
              "    <tr>\n",
              "      <th>Yes</th>\n",
              "      <td>2</td>\n",
              "      <td>1286</td>\n",
              "      <td>41</td>\n",
              "      <td>0</td>\n",
              "      <td>44</td>\n",
              "      <td>40</td>\n",
              "      <td>0</td>\n",
              "      <td>2</td>\n",
              "      <td>0</td>\n",
              "      <td>44</td>\n",
              "      <td>172</td>\n",
              "    </tr>\n",
              "  </tbody>\n",
              "</table>\n",
              "</div>"
            ],
            "text/plain": [
              "force   Baton  Bodily Force  Chemical Irritant  Firearm  Gun Point Display  \\\n",
              "injury                                                                       \n",
              "NA          2          7051               1421        0                 27   \n",
              "No          0          1093                131        2                 33   \n",
              "Yes         2          1286                 41        0                 44   \n",
              "\n",
              "force   Improvised Weapon  Less Lethal  Less Lethal Projectile  \\\n",
              "injury                                                           \n",
              "NA                     74           87                       0   \n",
              "No                     34            0                       1   \n",
              "Yes                    40            0                       2   \n",
              "\n",
              "force   Maximal Restraint Technique  Police K9 Bite  Taser  \n",
              "injury                                                      \n",
              "NA                              170              31    985  \n",
              "No                                0               2    150  \n",
              "Yes                               0              44    172  "
            ]
          },
          "execution_count": 4,
          "metadata": {},
          "output_type": "execute_result"
        }
      ],
      "source": [
        "#PART 2\n",
        "PoliceData = pd.read_csv('./data/mn_police_use_of_force.csv')\n",
        "\n",
        "print(PoliceData['subject_injury'].dtypes) #check type \n",
        "\n",
        "na_total = (PoliceData['subject_injury'].isna().sum())\n",
        "total = (PoliceData['response_datetime'].count())\n",
        "missing_injuries = na_total / total\n",
        "print(missing_injuries) #around 76% of data is missing, which is concerning \n",
        "\n",
        "PoliceData['InjuryClean'] = PoliceData['subject_injury'] #create a new column for the cleaned data \n",
        "PoliceData['InjuryClean'] = PoliceData['subject_injury'].fillna('NA') #fill in the missing values with NA\n",
        "\n",
        "#Crosstabulate the cleaned injury data with force type \n",
        "pd.crosstab(PoliceData['InjuryClean'], PoliceData['force_type'], rownames=['injury'], colnames=['force'])\n",
        "#From this crosstabulation, we can see a lot of the missing data comes from instances where lots of force was\n",
        "#used, such as Bodily Force, Chemical Irritant, Maximal Restraint Technique, Less Lethal, or Taser. This makes\n",
        "#you wonder why the data is missing and if it could be from lack of response, not lack of injury. "
      ]
    },
    {
      "cell_type": "code",
      "execution_count": 5,
      "id": "47609030",
      "metadata": {},
      "outputs": [
        {
          "name": "stdout",
          "output_type": "stream",
          "text": [
            "[9 0 1]\n",
            "int64\n",
            "[nan  0.  1.]\n"
          ]
        }
      ],
      "source": [
        "#PART 3\n",
        "PretrialData = pd.read_parquet('./data/justice_data.parquet')\n",
        "\n",
        "#checks what the values are before cleaning \n",
        "print(PretrialData['WhetherDefendantWasReleasedPretrial'].unique())\n",
        "\n",
        "#check the type of the data\n",
        "print(PretrialData['WhetherDefendantWasReleasedPretrial'].dtypes)\n",
        "\n",
        "#replaces all 9s with np.nan\n",
        "PretrialData['WhetherDefendantWasReleasedPretrial'] = PretrialData['WhetherDefendantWasReleasedPretrial'].replace(9, np.nan)\n",
        "\n",
        "#checks what the unique values are after replacement \n",
        "print(PretrialData['WhetherDefendantWasReleasedPretrial'].unique())"
      ]
    },
    {
      "cell_type": "code",
      "execution_count": 11,
      "id": "e761fc85",
      "metadata": {},
      "outputs": [
        {
          "name": "stdout",
          "output_type": "stream",
          "text": [
            "object\n",
            "0                        \n",
            "1                      60\n",
            "2                      12\n",
            "3        .985626283367556\n",
            "4                        \n",
            "               ...       \n",
            "22981                    \n",
            "22982                    \n",
            "22983                    \n",
            "22984                    \n",
            "22985                    \n",
            "Name: ImposedSentenceAllChargeInContactEvent, Length: 22986, dtype: object\n"
          ]
        }
      ],
      "source": [
        "#PART 4\n",
        "ImposedSentence = PretrialData['ImposedSentenceAllChargeInContactEvent']\n",
        "SentenceType = PretrialData['SentenceTypeAllChargesAtConvictionInContactEvent']\n",
        "\n",
        "print(ImposedSentence.dtype) #check type of Imposed Sentence \n",
        "\n",
        "#replace values of Imposed Sentence with 0 if Sentence Type is 0 \n",
        "PretrialData.loc[(ImposedSentence == '') & (SentenceType == 0), 'ImposedSentenceAllChargeInContactEvent']  = SentenceType\n",
        "\n",
        "print(ImposedSentence)"
      ]
    },
    {
      "cell_type": "markdown",
      "id": "5a60a44e",
      "metadata": {},
      "source": [
        "**Q2.** Go to https://sharkattackfile.net/ and download their dataset on shark attacks.\n",
        "\n",
        "1. Open the shark attack file using Pandas. It is probably not a csv file, so `read_csv` won't work.\n",
        "2. Drop any columns that do not contain data.\n",
        "3. Clean the year variable. Describe the range of values you see. Filter the rows to focus on attacks since 1940. Are attacks increasing, decreasing, or remaining constant over time?\n",
        "4. Clean the Age variable and make a histogram of the ages of the victims.\n",
        "5. What proportion of victims are male?\n",
        "6. Clean the `Type` variable so it only takes three values: Provoked and Unprovoked and Unknown. What proportion of attacks are unprovoked?\n",
        "7. Clean the `Fatal Y/N` variable so it only takes three values: Y, N, and Unknown.\n",
        "8. Are sharks more likely to launch unprovoked attacks on men or women? Is the attack more or less likely to be fatal when the attack is provoked or unprovoked? Is it more or less likely to be fatal when the victim is male or female? How do you feel about sharks?\n",
        "9. What proportion of attacks appear to be by white sharks? (Hint: `str.split()` makes a vector of text values into a list of lists, split by spaces.)"
      ]
    },
    {
      "cell_type": "code",
      "execution_count": 120,
      "id": "9c76c661",
      "metadata": {},
      "outputs": [
        {
          "name": "stdout",
          "output_type": "stream",
          "text": [
            "                  Date    Year        Type    Country              State  \\\n",
            "0  2025-01-23 00:00:00  2025.0  Unprovoked  Australia  Western Australia   \n",
            "1  2025-01-22 00:00:00  2025.0  Unprovoked  Australia  Western Australia   \n",
            "\n",
            "         Location Activity         Name Sex Age  ...       Species   \\\n",
            "0  Shipwreck Cove  Bathing         Boy    M  12  ...     Not stated   \n",
            "1  Cheynes beach   Surfing  Dale Kittow   M  37  ...  Bronze whaler   \n",
            "\n",
            "           Source  pdf href formula href Case Number Case Number.1  \\\n",
            "0  Bob Myatt GSAF  NaN          NaN  NaN         NaN           NaN   \n",
            "1  Bob Myatt GSAF  NaN          NaN  NaN         NaN           NaN   \n",
            "\n",
            "  original order Unnamed: 21 Unnamed: 22  \n",
            "0            NaN         NaN         NaN  \n",
            "1            NaN         NaN         NaN  \n",
            "\n",
            "[2 rows x 23 columns]\n",
            "                  Date    Year        Type    Country              State  \\\n",
            "0  2025-01-23 00:00:00  2025.0  Unprovoked  Australia  Western Australia   \n",
            "1  2025-01-22 00:00:00  2025.0  Unprovoked  Australia  Western Australia   \n",
            "\n",
            "         Location Activity         Name Sex Age  \\\n",
            "0  Shipwreck Cove  Bathing         Boy    M  12   \n",
            "1  Cheynes beach   Surfing  Dale Kittow   M  37   \n",
            "\n",
            "                                  Injury Fatal Y/N     Time       Species   \\\n",
            "0               Minor bite to lower body         N  1711hrs     Not stated   \n",
            "1  None - chunk of surfboard  bitten out         N  1600hrs  Bronze whaler   \n",
            "\n",
            "           Source  \n",
            "0  Bob Myatt GSAF  \n",
            "1  Bob Myatt GSAF  \n",
            "float64\n"
          ]
        }
      ],
      "source": [
        "SharkData = pd.read_excel('./data/GSAF5.xls', engine=\"xlrd\") #read in shark data as xls\n",
        "print(SharkData.head(2)) #print the first values of SharkData to see which columns are empty \n",
        "\n",
        "#drop the empty rows \n",
        "SharkData = SharkData.drop(['pdf', 'href formula', 'href', 'Case Number', 'Case Number.1',\n",
        "                            'original order', 'Unnamed: 21', 'Unnamed: 22'], axis=1)\n",
        "\n",
        "#print(SharkData.head(2)) #check what columns remain \n",
        "\n",
        "print(SharkData['Year'].dtypes) #check type of year\n",
        "#print(SharkData['Year'].unique()) #see unique values of Year\n",
        "SharkData['Year'] = SharkData['Year'].replace((77, 5, 0), np.nan) #replace confusing values with nan\n"
      ]
    },
    {
      "cell_type": "code",
      "execution_count": 116,
      "id": "53f33450",
      "metadata": {},
      "outputs": [
        {
          "name": "stdout",
          "output_type": "stream",
          "text": [
            "object\n",
            "[99  8 30  9 20 50  6 40 45 28 60  0  7  3  5 18 12 46 36 33 23 32 16 21\n",
            " 25 17 13 34  2  4 10 31  1]\n"
          ]
        },
        {
          "data": {
            "text/plain": [
              "(array([13., 76.,  6., 16.,  4., 20.,  7.,  2.,  7.,  4.]),\n",
              " array([ 0.,  6., 12., 18., 24., 30., 36., 42., 48., 54., 60.]),\n",
              " <BarContainer object of 10 artists>)"
            ]
          },
          "execution_count": 116,
          "metadata": {},
          "output_type": "execute_result"
        },
        {
          "data": {
            "image/png": "[encoded data removed]",
            "text/plain": [
              "<Figure size 640x480 with 1 Axes>"
            ]
          },
          "metadata": {},
          "output_type": "display_data"
        }
      ],
      "source": [
        "Age = SharkData['Age']\n",
        "print(Age.dtypes) #check type of age\n",
        "\n",
        "Age = Age.str.lower() #convert to all lowercase for better matching \n",
        "\n",
        "#replace common values with age I think matches \n",
        "Age = Age.replace((\"middle age\", \"adult\", r'\"middle-age\"', \"(adult)\"), 45)\n",
        "\n",
        "Age = Age.replace((\"young\", r'\"young\"', \"minor\", \"a minor\", \"teen\", \"a teen\", \"teens\"), 17)\n",
        "Age = Age.replace((\"elderly\"), 70)\n",
        "Age = Age.astype(str) #convert all ages to strings for regex matching \n",
        "\n",
        "def regex_clean(value):\n",
        "    if isinstance(value, str): #ensure everything passed in can be regex matched\n",
        "        if re.match(r'[0-9]+½', value): #match values \n",
        "            cleaned = re.sub(r'½', '', value) #cut off the non-number \n",
        "            cleaned = pd.to_numeric(cleaned) #convert to numeric\n",
        "            return cleaned #return numeric with just numbers \n",
        "        elif re.match(r'[0-9]+\\s*months?', value):\n",
        "            cleaned = 0\n",
        "            cleaned = pd.to_numeric(cleaned)\n",
        "            return cleaned\n",
        "        elif re.match(r\"[0-9]+[r']?s\", value):\n",
        "            cleaned = value[:2]\n",
        "            cleaned = pd.to_numeric(cleaned)\n",
        "            return cleaned\n",
        "        elif re.match(r'[0-9]+\\s*or\\s*[0-9]+', value):\n",
        "            cleaned = value[:2]\n",
        "            cleaned = pd.to_numeric(cleaned)\n",
        "            return cleaned \n",
        "        elif re.match(r'[0-9]+\\s*&\\s*[0-9]+', value):\n",
        "            cleaned = value[:2]\n",
        "            cleaned = pd.to_numeric(cleaned)\n",
        "            return cleaned \n",
        "        elif re.match(r'[0-9]+\\s*to\\s*[0-9]+', value):\n",
        "            cleaned = value[:2]\n",
        "            cleaned = pd.to_numeric(cleaned)\n",
        "            return cleaned \n",
        "        elif re.match(r'[0-9]+\\s*and\\s*[0-9]+', value):\n",
        "            cleaned = value[:2]\n",
        "            cleaned = pd.to_numeric(cleaned)\n",
        "            return cleaned \n",
        "        elif re.match(r'^[0-9]?$', value):\n",
        "            value = pd.to_numeric(value)\n",
        "            return value\n",
        "        else:\n",
        "            return 99 #return 99 for extra values \n",
        "    else:\n",
        "        return 99\n",
        "\n",
        "Age = Age.apply(regex_clean) #apply the regex to all of the ages \n",
        "print(Age.unique()) #see unique values of age\n",
        "\n",
        "AgeHist = Age[Age!= 99] #remove all of the extra values for the histogram, as they are outliers\n",
        "\n",
        "plt.hist(AgeHist, bins=10, edgecolor='black') #graph the numeric values \n"
      ]
    },
    {
      "cell_type": "code",
      "execution_count": 140,
      "id": "60033541",
      "metadata": {},
      "outputs": [
        {
          "name": "stdout",
          "output_type": "stream",
          "text": [
            "['M' 'F' 'Unknown']\n",
            "0.8032036613272311\n"
          ]
        }
      ],
      "source": [
        "SharkData['Sex'] = SharkData['Sex'].str.strip() #strip off trailing whitespaces\n",
        "\n",
        "print(SharkData['Sex'].unique()) #check unique values of Sex before cleaning\n",
        "SharkData['Sex'] = SharkData['Sex'].replace((\"M X 2\"), 'M') #can tell this value is a male\n",
        "SharkData['Sex'] = np.where(SharkData['Sex'].isin(['M', 'F']), SharkData['Sex'], 'Unknown') #make all others Unknown\n",
        "\n",
        "male_count = (SharkData['Sex'] == 'M').sum() #sum of males\n",
        "total_count = SharkData['Sex'].count() #sum of total rows\n",
        "\n",
        "male_freq = male_count / total_count #calculate frequency of males \n",
        "print(male_freq)"
      ]
    },
    {
      "cell_type": "code",
      "execution_count": null,
      "id": "884b88d6",
      "metadata": {},
      "outputs": [
        {
          "name": "stdout",
          "output_type": "stream",
          "text": [
            "['Unprovoked' 'Provoked' 'Unknown']\n",
            "5153\n",
            "0.7369851258581236\n"
          ]
        }
      ],
      "source": [
        "SharkData['Type'] = SharkData['Type'].str.strip() #remove trailing whitespace\n",
        "\n",
        "def assign_type(value): #create function to assign unknown unless it is unprovoked or provoked \n",
        "   if (value == \"Unprovoked\" or value == \"Provoked\"):\n",
        "        return value  \n",
        "   else:\n",
        "        return \"Unknown\"\n",
        "   \n",
        "SharkData['Type'] = SharkData['Type'].apply(assign_type) #assign unknowns to all not provoked/unprovoked\n",
        "\n",
        "print(SharkData['Type'].unique())\n",
        "\n",
        "unprovoked_count = (SharkData['Type'] == 'Unprovoked').sum() #sum of unprovoked \n",
        "total_count = SharkData['Type'].count() #sum of total rows\n",
        "\n",
        "print(unprovoked_count / total_count) #calculate frequency of unprovoked attacks "
      ]
    },
    {
      "cell_type": "code",
      "execution_count": 128,
      "id": "d2864d31",
      "metadata": {},
      "outputs": [
        {
          "name": "stdout",
          "output_type": "stream",
          "text": [
            "['N' 'Y' 'F' 'M' nan 'NQ' 'UNKNOWN' 'Y X 2']\n",
            "['N' 'N' 'N' ... 'Y' 'Y' 'Y']\n"
          ]
        }
      ],
      "source": [
        "Fatal = SharkData['Fatal Y/N']\n",
        "print(Fatal.unique()) #check unique values of column \n",
        "\n",
        "Fatal = Fatal.str.upper().str.strip() #make all uppercase and strip whitespaces\n",
        "Fatal = Fatal.replace((\"Y X 2\"), 'Y') #can tell this value is a yes\n",
        "Fatal = np.where(Fatal.isin(['Y', 'N']), Fatal, 'Unknown') #all other values that arent Y/N changed to 'Unknown'\n",
        "\n",
        "print(Fatal)"
      ]
    },
    {
      "cell_type": "code",
      "execution_count": 157,
      "id": "7290456b",
      "metadata": {},
      "outputs": [
        {
          "name": "stdout",
          "output_type": "stream",
          "text": [
            "sex           F     M  Unknown\n",
            "type                          \n",
            "Provoked     31   548       60\n",
            "Unknown      91   754      355\n",
            "Unprovoked  670  4314      169\n",
            "0.8872891814068284\n",
            "0.9557774607703281\n"
          ]
        }
      ],
      "source": [
        "s_tab = pd.crosstab(SharkData['Type'], SharkData['Sex'], rownames=['type'], colnames=['sex'])\n",
        "print(s_tab)\n",
        "\n",
        "men_prov = s_tab.loc['Provoked', 'M']\n",
        "men_unprov = s_tab.loc['Unprovoked', 'M']\n",
        "men_fract = men_unprov / (men_unprov + men_prov)\n",
        "print(men_fract) #the proportion of mens attacks that were unprovoked \n",
        "\n",
        "wom_prov = s_tab.loc['Provoked', 'F']\n",
        "wom_unprov = s_tab.loc['Unprovoked', 'F']\n",
        "wom_fract = wom_unprov / (wom_unprov + wom_prov)\n",
        "print(wom_fract) #the proportion of womens attacks that were unprovoked \n",
        "#It seems like womens attacks were more likely to be unprovoked than mens attacks "
      ]
    },
    {
      "cell_type": "code",
      "execution_count": 160,
      "id": "c523cec6",
      "metadata": {},
      "outputs": [
        {
          "name": "stdout",
          "output_type": "stream",
          "text": [
            "fatal          N  Unknown     Y\n",
            "type                           \n",
            "Provoked     609        9    21\n",
            "Unknown      449      554   197\n",
            "Unprovoked  3823       78  1252\n",
            "0.03333333333333333\n",
            "0.24669950738916255\n"
          ]
        }
      ],
      "source": [
        "tab = pd.crosstab(SharkData['Type'], Fatal, rownames=['type'], colnames=['fatal'])\n",
        "print(tab)\n",
        "\n",
        "prov_fatal = tab.loc['Provoked', 'Y']\n",
        "prov_not = tab.loc['Provoked', 'N']\n",
        "prov_fract = prov_fatal / (prov_fatal + prov_not)\n",
        "print(prov_fract) #the proportion of provoked attacks that were fatal \n",
        "\n",
        "unprov_fatal = tab.loc['Unprovoked', 'Y']\n",
        "unprov_not = tab.loc['Unprovoked', 'N']\n",
        "unprov_fract = unprov_fatal / (unprov_fatal + unprov_not)\n",
        "print(unprov_fract)#proportion of unprovoked attacks that were fatal\n",
        "#The attack is more likely to be fatal when the attack is unprovoked "
      ]
    },
    {
      "cell_type": "code",
      "execution_count": 162,
      "id": "9fa8c8e3",
      "metadata": {},
      "outputs": [
        {
          "name": "stdout",
          "output_type": "stream",
          "text": [
            "fatal       N  Unknown     Y\n",
            "type                        \n",
            "F         602       70   120\n",
            "M        3917      459  1240\n",
            "Unknown   362      112   110\n",
            "0.2207977207977208\n",
            "0.15151515151515152\n"
          ]
        }
      ],
      "source": [
        "f_tab = pd.crosstab(SharkData['Sex'], Fatal, rownames=['type'], colnames=['fatal'])\n",
        "print(f_tab)\n",
        "\n",
        "prop = f_tab.div(f_tab.sum(axis=1), axis=0)\n",
        "\n",
        "male_fatal = prop.loc['M', 'Y']\n",
        "print(male_fatal) #the proportion of male attacks that are fatal\n",
        "wom_fatal = prop.loc['F', 'Y']\n",
        "print(wom_fatal) #the proportion of female attacks that are fatal\n",
        "#the attack is more likely to be fatal when the victim is female "
      ]
    },
    {
      "cell_type": "code",
      "execution_count": 176,
      "id": "e577bc8e",
      "metadata": {},
      "outputs": [
        {
          "name": "stdout",
          "output_type": "stream",
          "text": [
            "0.18316062176165804\n"
          ]
        }
      ],
      "source": [
        "#print(SharkData['Species '])\n",
        "SharkData['Species '] = SharkData['Species '].str.lower() #make all species lowercase\n",
        "whitecount=0\n",
        "\n",
        "def is_white(value): #create a function that checks if the species has white in it anywhere \n",
        "    global whitecount\n",
        "    if isinstance(value, str):\n",
        "        pattern = \"white\"\n",
        "        words = value.split()\n",
        "        for word in words:\n",
        "            if word == pattern:\n",
        "                whitecount += 1 \n",
        "    return value\n",
        "\n",
        "SharkData['Species '] = SharkData['Species '].apply(is_white) #counts all of the rows to see if they have white\n",
        "total_species = SharkData['Species '].count() #get the total number of entries\n",
        "print(whitecount / total_species) #find the proportion of total entries that are white "
      ]
    },
    {
      "cell_type": "markdown",
      "id": "5735a4d4-8be8-433a-a351-70eb8002e632",
      "metadata": {
        "id": "5735a4d4-8be8-433a-a351-70eb8002e632"
      },
      "source": [
        "**Q3.** Open the \"tidy_data.pdf\" document in the repo, which is a paper called Tidy Data by Hadley Wickham.\n",
        "\n",
        "  1. Read the abstract. What is this paper about?\n",
        "  2. Read the introduction. What is the \"tidy data standard\" intended to accomplish?\n",
        "  3. Read the intro to section 2. What does this sentence mean: \"Like families, tidy datasets are all alike but every messy dataset is messy in its own way.\" What does this sentence mean: \"For a given dataset, it’s usually easy to figure out what are observations and what are variables, but it is surprisingly difficult to precisely define variables and observations in general.\"\n",
        "  4. Read Section 2.2. How does Wickham define values, variables, and observations?\n",
        "  5. How is \"Tidy Data\" defined in section 2.3?\n",
        "  6. Read the intro to Section 3 and Section 3.1. What are the 5 most common problems with messy datasets? Why are the data in Table 4 messy? What is \"melting\" a dataset?\n",
        "  7. Why, specifically, is table 11 messy but table 12 tidy and \"molten\"?\n",
        "  8. Read Section 6. What is the \"chicken-and-egg\" problem with focusing on tidy data? What does Wickham hope happens in the future with further work on the subject of data wrangling?"
      ]
    },
    {
      "cell_type": "markdown",
      "id": "649494cd-cfd6-4f80-992a-9994fc19e1d5",
      "metadata": {
        "id": "649494cd-cfd6-4f80-992a-9994fc19e1d5"
      },
      "source": [
        "**Q4.** Many important datasets contain a race variable, typically limited to a handful of values often including Black, White, Asian, Latino, and Indigenous. This question looks at data gathering efforts on this variable by the U.S. Federal government.\n",
        "\n",
        "1. How did the most recent US Census gather data on race?\n",
        "2. Why do we gather these data? What role do these kinds of data play in politics and society? Why does data quality matter?\n",
        "3. Please provide a constructive criticism of how the Census was conducted: What was done well? What do you think was missing? How should future large scale surveys be adjusted to best reflect the diversity of the population? Could some of the Census' good practices be adopted more widely to gather richer and more useful data?\n",
        "4. How did the Census gather data on sex and gender? Please provide a similar constructive criticism of their practices.\n",
        "5. When it comes to cleaning data, what concerns do you have about protected characteristics like sex, gender, sexual identity, or race? What challenges can you imagine arising when there are missing values? What good or bad practices might people adopt, and why?\n",
        "6. Suppose someone invented an algorithm to impute values for protected characteristics like race, gender, sex, or sexuality. What kinds of concerns would you have?"
      ]
    },
    {
      "cell_type": "markdown",
      "id": "d368c001",
      "metadata": {},
      "source": [
        "1) The most recent US census, the 2020 one, had two questions on race, one asking if the respondent identifies as 'Hispanic or Latino' or not, the other asking which of these 5 categories people identify as, 'American Indian or Alaska Native' , 'Asian', 'Black or African American', 'Native Hawaiian or Other Pacific Islander', or 'White', although for this question you can select multiple.   \n",
        "2) It is important to know this information, as it can be used in studies later to discover things. Many demographers will follow trends of where people are moving which can tell a political story. If specific racial groups are facing problems significantly more than others, it is important to be aware of these differences to be on the lookout for any potential inequalities in society that could be causing this. For this it is important to have high quality data that is easy to clean so you can get conclusions easily.   \n",
        "3) Until 2000, people were not able to identify as multiple races on the census. This being added is important to classify the US population more accurately and represent individuals belonging to multiple racial groups. In 2024 the census also decided to add a category for people who identify as Middle Eastern or North African. With something like race it is difficult to classify in a simple question that has limited options but still represents the population. There will always be some groups that are not represented, but it is important to consider ways to change things as the population changes to represent it accurately. For other surveys, it is important to consider ways to best reflect the population.   \n",
        "4) The census asks a question on a person's sex, the options being Male and Female. I think in order to better this they could have an additional question on gender that has more options to better represent the American populace. It is better to have more information on how people identify to seek out differences from the norm that would need to be further studied.   \n",
        "5) When there are missing values it may be hard to reach conclusions or find out any information that could be useful. At the same time, many do not feel comfortable disclosing information like this or are concerned about it for privacy reasons. With something sent out to such mass amounts of people, there are also inevitable misunderstandings of the questions or people incorrectly reading the options, especially with a question like race. When cleaning the data it is harder to use all of it when there are missing data that you can not just impute with other data. It might be best practice to inform people better of how to properly fill out the questions and what the data is used for.   \n",
        "6) If there was an algorithm to impute these values, I would be concerned what it is based on. If it is imputing the values based on the answers to other questions, then I would worry that you can no longer reach conclusions about these questions. For example, if they found a strong correlation between sex and income, and they then started to impute sex based on income, you would no longer be able to derive any meaningful conclusions on the relationship between sex and income. Given that you are trying to get information on people, it wouldn't make sense to algorithmically simulate this data. "
      ]
    }
  ],
  "metadata": {
    "colab": {
      "provenance": []
    },
    "kernelspec": {
      "display_name": "Python 3",
      "language": "python",
      "name": "python3"
    },
    "language_info": {
      "codemirror_mode": {
        "name": "ipython",
        "version": 3
      },
      "file_extension": ".py",
      "mimetype": "text/x-python",
      "name": "python",
      "nbconvert_exporter": "python",
      "pygments_lexer": "ipython3",
      "version": "3.10.12"
    }
  },
  "nbformat": 4,
  "nbformat_minor": 5
}
