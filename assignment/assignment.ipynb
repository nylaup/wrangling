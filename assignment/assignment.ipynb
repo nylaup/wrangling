{
  "cells": [
    {
      "cell_type": "markdown",
      "id": "13ad028b-72b7-43ed-aa78-96fd4e518040",
      "metadata": {
        "id": "13ad028b-72b7-43ed-aa78-96fd4e518040"
      },
      "source": [
        "# Assignment: Data Wrangling\n",
        "### `! git clone https://github.com/ds4e/wrangling`\n",
        "### Do Q1 and Q2, and either Q3 or Q4, for a total of 3 questions."
      ]
    },
    {
      "cell_type": "markdown",
      "id": "da879ea7-8aac-48a3-b6c2-daea56d2e072",
      "metadata": {
        "id": "da879ea7-8aac-48a3-b6c2-daea56d2e072"
      },
      "source": [
        "**Q1.** This question provides some practice cleaning variables which have common problems.\n",
        "1. Numeric variable: For `./data/airbnb_hw.csv`, clean the `Price` variable as well as you can, and explain the choices you make. How many missing values do you end up with? (Hint: What happens to the formatting when a price goes over 999 dollars, say from 675 to 1,112?)\n",
        "2. Categorical variable: For the Minnesota police use of for data, `./data/mn_police_use_of_force.csv`, clean the `subject_injury` variable, handling the NA's; this gives a value `Yes` when a person was injured by police, and `No` when no injury occurred. What proportion of the values are missing? Is this a concern? Cross-tabulate your cleaned `subject_injury` variable with the `force_type` variable. Are there any patterns regarding when the data are missing? \n",
        "3. Dummy variable: For the pretrial data covered in the lecture, clean the `WhetherDefendantWasReleasedPretrial` variable as well as you can, and, in particular, replace missing values with `np.nan`.\n",
        "4. Missing values, not at random: For the pretrial data covered in the lecture, clean the `ImposedSentenceAllChargeInContactEvent` variable as well as you can, and explain the choices you make. (Hint: Look at the `SentenceTypeAllChargesAtConvictionInContactEvent` variable.)"
      ]
    },
    {
      "cell_type": "code",
      "execution_count": 20,
      "id": "a7aa41a9",
      "metadata": {},
      "outputs": [
        {
          "name": "stdout",
          "output_type": "stream",
          "text": [
            "object\n",
            "int64\n",
            "0\n"
          ]
        }
      ],
      "source": [
        "import pandas as pd \n",
        "import numpy as np\n",
        "import re \n",
        "\n",
        "#PART 1\n",
        "AirBnBData = pd.read_csv('./data/airbnb_hw.csv') #read in the data \n",
        "\n",
        "print(AirBnBData['Price'].dtypes) #check the datatype of the column, want it to be int\n",
        "\n",
        "def check_comma(value): #create a function that converts to numerics, checking if they have a comma \n",
        "    pattern = r'[0-9]+[,][0-9][0-9][0-9]' #regex pattern to match something formatted like 0,000\n",
        "    if re.match(pattern, value): #checks if the string has a comma \n",
        "        cleaned = re.sub(r',', '', value) #substitutes the comma for a blank space\n",
        "        cleaned = pd.to_numeric(cleaned) #converts to a numeric \n",
        "        return cleaned\n",
        "    else:\n",
        "        value = pd.to_numeric(value) #converts to numeric if there is no comma \n",
        "        return value\n",
        "    \n",
        "#apply the check_comma function to everything in the Price column and create a new column called PriceClean\n",
        "AirBnBData['PriceClean'] = AirBnBData['Price'].apply(check_comma) \n",
        "\n",
        "print(AirBnBData['PriceClean'].dtypes) #check price after typecasting, should be int \n",
        "\n",
        "print(AirBnBData['PriceClean'].isna().sum().sum()) #check how many NA values have been created "
      ]
    },
    {
      "cell_type": "code",
      "execution_count": 22,
      "id": "edc4d6dc",
      "metadata": {},
      "outputs": [
        {
          "name": "stdout",
          "output_type": "stream",
          "text": [
            "object\n",
            "0.7619342359767892\n"
          ]
        },
        {
          "data": {
            "text/html": [
              "<div>\n",
              "<style scoped>\n",
              "    .dataframe tbody tr th:only-of-type {\n",
              "        vertical-align: middle;\n",
              "    }\n",
              "\n",
              "    .dataframe tbody tr th {\n",
              "        vertical-align: top;\n",
              "    }\n",
              "\n",
              "    .dataframe thead th {\n",
              "        text-align: right;\n",
              "    }\n",
              "</style>\n",
              "<table border=\"1\" class=\"dataframe\">\n",
              "  <thead>\n",
              "    <tr style=\"text-align: right;\">\n",
              "      <th>force</th>\n",
              "      <th>Baton</th>\n",
              "      <th>Bodily Force</th>\n",
              "      <th>Chemical Irritant</th>\n",
              "      <th>Firearm</th>\n",
              "      <th>Gun Point Display</th>\n",
              "      <th>Improvised Weapon</th>\n",
              "      <th>Less Lethal</th>\n",
              "      <th>Less Lethal Projectile</th>\n",
              "      <th>Maximal Restraint Technique</th>\n",
              "      <th>Police K9 Bite</th>\n",
              "      <th>Taser</th>\n",
              "    </tr>\n",
              "    <tr>\n",
              "      <th>injury</th>\n",
              "      <th></th>\n",
              "      <th></th>\n",
              "      <th></th>\n",
              "      <th></th>\n",
              "      <th></th>\n",
              "      <th></th>\n",
              "      <th></th>\n",
              "      <th></th>\n",
              "      <th></th>\n",
              "      <th></th>\n",
              "      <th></th>\n",
              "    </tr>\n",
              "  </thead>\n",
              "  <tbody>\n",
              "    <tr>\n",
              "      <th>NA</th>\n",
              "      <td>2</td>\n",
              "      <td>7051</td>\n",
              "      <td>1421</td>\n",
              "      <td>0</td>\n",
              "      <td>27</td>\n",
              "      <td>74</td>\n",
              "      <td>87</td>\n",
              "      <td>0</td>\n",
              "      <td>170</td>\n",
              "      <td>31</td>\n",
              "      <td>985</td>\n",
              "    </tr>\n",
              "    <tr>\n",
              "      <th>No</th>\n",
              "      <td>0</td>\n",
              "      <td>1093</td>\n",
              "      <td>131</td>\n",
              "      <td>2</td>\n",
              "      <td>33</td>\n",
              "      <td>34</td>\n",
              "      <td>0</td>\n",
              "      <td>1</td>\n",
              "      <td>0</td>\n",
              "      <td>2</td>\n",
              "      <td>150</td>\n",
              "    </tr>\n",
              "    <tr>\n",
              "      <th>Yes</th>\n",
              "      <td>2</td>\n",
              "      <td>1286</td>\n",
              "      <td>41</td>\n",
              "      <td>0</td>\n",
              "      <td>44</td>\n",
              "      <td>40</td>\n",
              "      <td>0</td>\n",
              "      <td>2</td>\n",
              "      <td>0</td>\n",
              "      <td>44</td>\n",
              "      <td>172</td>\n",
              "    </tr>\n",
              "  </tbody>\n",
              "</table>\n",
              "</div>"
            ],
            "text/plain": [
              "force   Baton  Bodily Force  Chemical Irritant  Firearm  Gun Point Display  \\\n",
              "injury                                                                       \n",
              "NA          2          7051               1421        0                 27   \n",
              "No          0          1093                131        2                 33   \n",
              "Yes         2          1286                 41        0                 44   \n",
              "\n",
              "force   Improvised Weapon  Less Lethal  Less Lethal Projectile  \\\n",
              "injury                                                           \n",
              "NA                     74           87                       0   \n",
              "No                     34            0                       1   \n",
              "Yes                    40            0                       2   \n",
              "\n",
              "force   Maximal Restraint Technique  Police K9 Bite  Taser  \n",
              "injury                                                      \n",
              "NA                              170              31    985  \n",
              "No                                0               2    150  \n",
              "Yes                               0              44    172  "
            ]
          },
          "execution_count": 22,
          "metadata": {},
          "output_type": "execute_result"
        }
      ],
      "source": [
        "#PART 2\n",
        "PoliceData = pd.read_csv('./data/mn_police_use_of_force.csv')\n",
        "\n",
        "print(PoliceData['subject_injury'].dtypes) #check type \n",
        "\n",
        "na_total = (PoliceData['subject_injury'].isna().sum())\n",
        "total = (PoliceData['response_datetime'].count())\n",
        "missing_injuries = na_total / total\n",
        "print(missing_injuries) #around 76% of data is missing, which is concerning \n",
        "\n",
        "PoliceData['InjuryClean'] = PoliceData['subject_injury'] #create a new column for the cleaned data \n",
        "PoliceData['InjuryClean'] = PoliceData['subject_injury'].fillna('NA') #fill in the missing values with NA\n",
        "\n",
        "#Crosstabulate the cleaned injury data with force type \n",
        "pd.crosstab(PoliceData['InjuryClean'], PoliceData['force_type'], rownames=['injury'], colnames=['force'])\n",
        "#From this crosstabulation, we can see a lot of the missing data comes from instances where lots of force was\n",
        "#used, such as Bodily Force, Chemical Irritant, Maximal Restraint Technique, Less Lethal, or Taser. This makes\n",
        "#you wonder why the data is missing and if it could be from lack of response, not lack of injury. "
      ]
    },
    {
      "cell_type": "code",
      "execution_count": 23,
      "id": "47609030",
      "metadata": {},
      "outputs": [
        {
          "name": "stdout",
          "output_type": "stream",
          "text": [
            "[9 0 1]\n",
            "int64\n",
            "[nan  0.  1.]\n"
          ]
        }
      ],
      "source": [
        "#PART 3\n",
        "PretrialData = pd.read_parquet('./data/justice_data.parquet')\n",
        "\n",
        "#checks what the values are before cleaning \n",
        "print(PretrialData['WhetherDefendantWasReleasedPretrial'].unique())\n",
        "\n",
        "#check the type of the data\n",
        "print(PretrialData['WhetherDefendantWasReleasedPretrial'].dtypes)\n",
        "\n",
        "#replaces all 9s with np.nan\n",
        "PretrialData['WhetherDefendantWasReleasedPretrial'] = PretrialData['WhetherDefendantWasReleasedPretrial'].replace(9, np.nan)\n",
        "\n",
        "#checks what the unique values are after replacement \n",
        "print(PretrialData['WhetherDefendantWasReleasedPretrial'].unique())"
      ]
    },
    {
      "cell_type": "code",
      "execution_count": 32,
      "id": "e761fc85",
      "metadata": {},
      "outputs": [
        {
          "name": "stdout",
          "output_type": "stream",
          "text": [
            "0                        \n",
            "1                      60\n",
            "2                      12\n",
            "3        .985626283367556\n",
            "4                        \n",
            "               ...       \n",
            "22981                    \n",
            "22982                    \n",
            "22983                    \n",
            "22984                    \n",
            "22985                    \n",
            "Name: ImposedSentenceAllChargeInContactEvent, Length: 22986, dtype: object\n",
            "0        9\n",
            "1        0\n",
            "2        1\n",
            "3        1\n",
            "4        4\n",
            "        ..\n",
            "22981    4\n",
            "22982    9\n",
            "22983    4\n",
            "22984    4\n",
            "22985    4\n",
            "Name: SentenceTypeAllChargesAtConvictionInContactEvent, Length: 22986, dtype: int64\n"
          ]
        }
      ],
      "source": [
        "#PART 4\n",
        "ImposedSentence = PretrialData['ImposedSentenceAllChargeInContactEvent']\n",
        "SentenceType = PretrialData['SentenceTypeAllChargesAtConvictionInContactEvent']\n",
        "\n",
        "print(ImposedSentence)\n",
        "print(SentenceType)\n",
        "\n",
        "#pd.crosstab(ImposedSentence, SentenceType, rownames=['imposed sentence'], colnames=['sentence type'])\n"
      ]
    },
    {
      "cell_type": "markdown",
      "id": "5a60a44e",
      "metadata": {},
      "source": [
        "**Q2.** Go to https://sharkattackfile.net/ and download their dataset on shark attacks.\n",
        "\n",
        "1. Open the shark attack file using Pandas. It is probably not a csv file, so `read_csv` won't work.\n",
        "2. Drop any columns that do not contain data.\n",
        "3. Clean the year variable. Describe the range of values you see. Filter the rows to focus on attacks since 1940. Are attacks increasing, decreasing, or remaining constant over time?\n",
        "4. Clean the Age variable and make a histogram of the ages of the victims.\n",
        "5. What proportion of victims are male?\n",
        "6. Clean the `Type` variable so it only takes three values: Provoked and Unprovoked and Unknown. What proportion of attacks are unprovoked?\n",
        "7. Clean the `Fatal Y/N` variable so it only takes three values: Y, N, and Unknown.\n",
        "8. Are sharks more likely to launch unprovoked attacks on men or women? Is the attack more or less likely to be fatal when the attack is provoked or unprovoked? Is it more or less likely to be fatal when the victim is male or female? How do you feel about sharks?\n",
        "9. What proportion of attacks appear to be by white sharks? (Hint: `str.split()` makes a vector of text values into a list of lists, split by spaces.)"
      ]
    },
    {
      "cell_type": "code",
      "execution_count": 43,
      "id": "9c76c661",
      "metadata": {},
      "outputs": [
        {
          "name": "stdout",
          "output_type": "stream",
          "text": [
            "                  Date    Year        Type    Country              State  \\\n",
            "0  2025-01-23 00:00:00  2025.0  Unprovoked  Australia  Western Australia   \n",
            "1  2025-01-22 00:00:00  2025.0  Unprovoked  Australia  Western Australia   \n",
            "\n",
            "         Location Activity         Name Sex Age  ...       Species   \\\n",
            "0  Shipwreck Cove  Bathing         Boy    M  12  ...     Not stated   \n",
            "1  Cheynes beach   Surfing  Dale Kittow   M  37  ...  Bronze whaler   \n",
            "\n",
            "           Source  pdf href formula href Case Number Case Number.1  \\\n",
            "0  Bob Myatt GSAF  NaN          NaN  NaN         NaN           NaN   \n",
            "1  Bob Myatt GSAF  NaN          NaN  NaN         NaN           NaN   \n",
            "\n",
            "  original order Unnamed: 21 Unnamed: 22  \n",
            "0            NaN         NaN         NaN  \n",
            "1            NaN         NaN         NaN  \n",
            "\n",
            "[2 rows x 23 columns]\n",
            "                  Date    Year        Type    Country              State  \\\n",
            "0  2025-01-23 00:00:00  2025.0  Unprovoked  Australia  Western Australia   \n",
            "1  2025-01-22 00:00:00  2025.0  Unprovoked  Australia  Western Australia   \n",
            "\n",
            "         Location Activity         Name Sex Age  ...     Time       Species   \\\n",
            "0  Shipwreck Cove  Bathing         Boy    M  12  ...  1711hrs     Not stated   \n",
            "1  Cheynes beach   Surfing  Dale Kittow   M  37  ...  1600hrs  Bronze whaler   \n",
            "\n",
            "           Source href formula href Case Number Case Number.1 original order  \\\n",
            "0  Bob Myatt GSAF          NaN  NaN         NaN           NaN            NaN   \n",
            "1  Bob Myatt GSAF          NaN  NaN         NaN           NaN            NaN   \n",
            "\n",
            "  Unnamed: 21  Unnamed: 22  \n",
            "0         NaN          NaN  \n",
            "1         NaN          NaN  \n",
            "\n",
            "[2 rows x 22 columns]\n"
          ]
        }
      ],
      "source": [
        "SharkData = pd.read_excel('./data/GSAF5.xls', engine=\"xlrd\")\n",
        "print(SharkData.head(2))\n",
        "\n",
        "SharkData = SharkData.drop('pdf', axis=1)\n",
        "print(SharkData.head(2))\n",
        "\n",
        "\n",
        "#print(SharkData.dtypes)"
      ]
    },
    {
      "cell_type": "markdown",
      "id": "5735a4d4-8be8-433a-a351-70eb8002e632",
      "metadata": {
        "id": "5735a4d4-8be8-433a-a351-70eb8002e632"
      },
      "source": [
        "**Q3.** Open the \"tidy_data.pdf\" document in the repo, which is a paper called Tidy Data by Hadley Wickham.\n",
        "\n",
        "  1. Read the abstract. What is this paper about?\n",
        "  2. Read the introduction. What is the \"tidy data standard\" intended to accomplish?\n",
        "  3. Read the intro to section 2. What does this sentence mean: \"Like families, tidy datasets are all alike but every messy dataset is messy in its own way.\" What does this sentence mean: \"For a given dataset, it’s usually easy to figure out what are observations and what are variables, but it is surprisingly difficult to precisely define variables and observations in general.\"\n",
        "  4. Read Section 2.2. How does Wickham define values, variables, and observations?\n",
        "  5. How is \"Tidy Data\" defined in section 2.3?\n",
        "  6. Read the intro to Section 3 and Section 3.1. What are the 5 most common problems with messy datasets? Why are the data in Table 4 messy? What is \"melting\" a dataset?\n",
        "  7. Why, specifically, is table 11 messy but table 12 tidy and \"molten\"?\n",
        "  8. Read Section 6. What is the \"chicken-and-egg\" problem with focusing on tidy data? What does Wickham hope happens in the future with further work on the subject of data wrangling?"
      ]
    },
    {
      "cell_type": "markdown",
      "id": "649494cd-cfd6-4f80-992a-9994fc19e1d5",
      "metadata": {
        "id": "649494cd-cfd6-4f80-992a-9994fc19e1d5"
      },
      "source": [
        "**Q4.** Many important datasets contain a race variable, typically limited to a handful of values often including Black, White, Asian, Latino, and Indigenous. This question looks at data gathering efforts on this variable by the U.S. Federal government.\n",
        "\n",
        "1. How did the most recent US Census gather data on race?\n",
        "2. Why do we gather these data? What role do these kinds of data play in politics and society? Why does data quality matter?\n",
        "3. Please provide a constructive criticism of how the Census was conducted: What was done well? What do you think was missing? How should future large scale surveys be adjusted to best reflect the diversity of the population? Could some of the Census' good practices be adopted more widely to gather richer and more useful data?\n",
        "4. How did the Census gather data on sex and gender? Please provide a similar constructive criticism of their practices.\n",
        "5. When it comes to cleaning data, what concerns do you have about protected characteristics like sex, gender, sexual identity, or race? What challenges can you imagine arising when there are missing values? What good or bad practices might people adopt, and why?\n",
        "6. Suppose someone invented an algorithm to impute values for protected characteristics like race, gender, sex, or sexuality. What kinds of concerns would you have?"
      ]
    }
  ],
  "metadata": {
    "colab": {
      "provenance": []
    },
    "kernelspec": {
      "display_name": "Python 3",
      "language": "python",
      "name": "python3"
    },
    "language_info": {
      "codemirror_mode": {
        "name": "ipython",
        "version": 3
      },
      "file_extension": ".py",
      "mimetype": "text/x-python",
      "name": "python",
      "nbconvert_exporter": "python",
      "pygments_lexer": "ipython3",
      "version": "3.10.12"
    }
  },
  "nbformat": 4,
  "nbformat_minor": 5
}
